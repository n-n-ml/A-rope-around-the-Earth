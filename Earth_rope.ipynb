{
 "cells": [
  {
   "cell_type": "markdown",
   "metadata": {},
   "source": [
    "# A rope around the Earth"
   ]
  },
  {
   "cell_type": "markdown",
   "metadata": {},
   "source": [
    "Imagine a closed loop of rope that traces precisely the circumference of the Earth, touching the ground. How much longer do we need to make the rope if we want it to be long enough that it could float 1 metre above the ground at every point? The answer is: longer by roughly 6.28 metres. This value is probably much smaller than many naive estimates, but the reason is simply that C = 2 \\pi R and C' = 2 \\pi (R+1) = C + 2 \\pi. Circumference scales linearly with the radius. We are puzzled by the fact that the length of the rope increases only slightly, but we tend to forget that the radius has also increased only slightly (indeed, by exactly the same ratio).\n",
    "A much more interesting question is: how far can the rope get from the ground, now that it has been made 2 \\pi metres longer, if we pull it all to one side of the Earth? That is what we are soon going to find out."
   ]
  },
  {
   "cell_type": "code",
   "execution_count": 24,
   "metadata": {},
   "outputs": [],
   "source": [
    "# Imports\n",
    "import scipy as sp\n",
    "import numpy as np\n",
    "import matplotlib.pyplot as plt"
   ]
  },
  {
   "cell_type": "code",
   "execution_count": 25,
   "metadata": {},
   "outputs": [],
   "source": [
    "# Constants\n",
    "R = 6371000  # Earth radius"
   ]
  },
  {
   "cell_type": "markdown",
   "metadata": {},
   "source": [
    "Let us call P the farthest point of the rope from the Earth, and X the distance of P from the ground. Then P has distance X+R from the center of the Earth. We call L the distance of P from the 2 points Q and Q' where the rope stops touching the ground. Since the rope is tangent to the Earth's surface at Q and Q', we have L = R / tan(alpha), where alpha is half the internal angle of the rope at P. The first and hardest step is to determine alpha (in radians). Consider the following function:"
   ]
  },
  {
   "cell_type": "code",
   "execution_count": 26,
   "metadata": {},
   "outputs": [],
   "source": [
    "def zerofunc(angle):\n",
    "    return 2 * R * angle + 2 * R / np.tan(angle) - (2 + R) * np.pi"
   ]
  },
  {
   "cell_type": "markdown",
   "metadata": {},
   "source": [
    "We now argue that alpha is a zero of this function. Let K be the partial circumference of the Earth from Q to Q' (on the longer side). Then we have:\n",
    "\n",
    "* C = 2\\pi R\n",
    "* K = (2\\pi - 2(\\pi/2 - alpha))/(2\\pi) * C = R(\\pi + 2 alpha)\n",
    "* L = R / tan(alpha)\n",
    "\n",
    "The function zerofunc evaluated at alpha is thus zero, as follows from the equation\n",
    "\n",
    "K+2L = C+2\\pi (length of rope)\n",
    "\n",
    "rewritten as\n",
    "\n",
    "R(\\pi + 2 alpha) + 2 R / tan(alpha) = 2\\pi R + 2\\pi\n",
    "\n",
    "and simplified as\n",
    "\n",
    "2 alpha R + 2 R / tan(alpha) - \\pi R - 2\\pi = 0.\n",
    "\n",
    "We can guess that alpha is close to \pi/2, so we plot zerofunc in the range (\pi/4, 3\pi/4):"
   ]
  },
  {
   "cell_type": "code",
   "execution_count": 27,
   "metadata": {},
   "outputs": [
    {
     "data": {
      "image/png": "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",
      "text/plain": [
       "<Figure size 640x480 with 1 Axes>"
      ]
     },
     "metadata": {},
     "output_type": "display_data"
    }
   ],
   "source": [
    "alpharange = np.linspace(np.pi/4, np.pi*3/4, 100)\n",
    "plt.figure()\n",
    "plt.plot(alpharange, zerofunc(alpharange))\n",
    "plt.show()"
   ]
  },
  {
   "cell_type": "markdown",
   "metadata": {},
   "source": [
    "We see that there is exactly one zero and that it is close to \\pi/2, but it at a bit less than \\pi/2, since"
   ]
  },
  {
   "cell_type": "code",
   "execution_count": 28,
   "metadata": {},
   "outputs": [
    {
     "name": "stdout",
     "output_type": "stream",
     "text": [
      "-6.2831853069365025\n"
     ]
    }
   ],
   "source": [
    "print(zerofunc(np.pi/2))"
   ]
  },
  {
   "cell_type": "markdown",
   "metadata": {},
   "source": [
    "We solve the equation numerically:"
   ]
  },
  {
   "cell_type": "code",
   "execution_count": 29,
   "metadata": {},
   "outputs": [
    {
     "name": "stdout",
     "output_type": "stream",
     "text": [
      "[89.34716571]\n"
     ]
    }
   ],
   "source": [
    "alpha = sp.optimize.fsolve(func=zerofunc, x0 = np.pi / 3)\n",
    "# Note: we cannot start from x0 = np.pi / 2, because there the derivative is zero \n",
    "print(alpha / np.pi * 180) # in degrees"
   ]
  },
  {
   "cell_type": "code",
   "execution_count": 33,
   "metadata": {},
   "outputs": [
    {
     "name": "stdout",
     "output_type": "stream",
     "text": [
      "[0.]\n"
     ]
    }
   ],
   "source": [
    "# Check:\n",
    "print(zerofunc(alpha))"
   ]
  },
  {
   "cell_type": "markdown",
   "metadata": {},
   "source": [
    "Now we can finally compute the solution:"
   ]
  },
  {
   "cell_type": "code",
   "execution_count": 30,
   "metadata": {},
   "outputs": [
    {
     "name": "stdout",
     "output_type": "stream",
     "text": [
      "[413.58211367]\n"
     ]
    }
   ],
   "source": [
    "x = R / np.sin(alpha) - R\n",
    "print(x)"
   ]
  },
  {
   "cell_type": "markdown",
   "metadata": {},
   "source": [
    "So the solution is a bit more than 413 metres! Also not so intuitive."
   ]
  },
  {
   "cell_type": "markdown",
   "metadata": {},
   "source": [
    "We conclude with two checks:"
   ]
  },
  {
   "cell_type": "code",
   "execution_count": 31,
   "metadata": {},
   "outputs": [
    {
     "name": "stdout",
     "output_type": "stream",
     "text": [
      "[4.0594911e+13]\n",
      "[4.0594911e+13]\n"
     ]
    }
   ],
   "source": [
    "# Check 1: should have equality by Pythagoras\n",
    "L = np.cos(alpha) * (x + R)\n",
    "L1 = L**2 + R**2\n",
    "L2 = (x + R) ** 2\n",
    "print(L1)\n",
    "print(L2)"
   ]
  },
  {
   "cell_type": "code",
   "execution_count": 32,
   "metadata": {},
   "outputs": [
    {
     "name": "stdout",
     "output_type": "stream",
     "text": [
      "[6.2831853]\n"
     ]
    }
   ],
   "source": [
    "# Check 2:\n",
    "# S = length of Earth's circumference not touched by the rope\n",
    "S = (np.pi - 2 * alpha) / (2 * np.pi) * 2 * R * np.pi\n",
    "# 2L - S should give the amount of new rope, i.e. 2\\pi metres\n",
    "print(2 * L - S)"
   ]
  }
 ],
 "metadata": {
  "kernelspec": {
   "display_name": "Python 3",
   "language": "python",
   "name": "python3"
  },
  "language_info": {
   "codemirror_mode": {
    "name": "ipython",
    "version": 3
   },
   "file_extension": ".py",
   "mimetype": "text/x-python",
   "name": "python",
   "nbconvert_exporter": "python",
   "pygments_lexer": "ipython3",
   "version": "3.12.3"
  }
 },
 "nbformat": 4,
 "nbformat_minor": 2
}
